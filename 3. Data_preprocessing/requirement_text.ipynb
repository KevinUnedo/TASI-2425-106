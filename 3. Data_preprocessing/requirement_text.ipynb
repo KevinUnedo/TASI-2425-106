{
 "cells": [
  {
   "cell_type": "code",
   "execution_count": null,
   "metadata": {},
   "outputs": [
    {
     "name": "stderr",
     "output_type": "stream",
     "text": [
      "[nltk_data] Downloading package stopwords to\n",
      "[nltk_data]     C:\\Users\\M.S.I\\AppData\\Roaming\\nltk_data...\n",
      "[nltk_data]   Package stopwords is already up-to-date!\n",
      "[nltk_data] Downloading package wordnet to\n",
      "[nltk_data]     C:\\Users\\M.S.I\\AppData\\Roaming\\nltk_data...\n",
      "[nltk_data]   Package wordnet is already up-to-date!\n"
     ]
    }
   ],
   "source": [
    "import pandas as pd\n",
    "import re\n",
    "import nltk\n",
    "from nltk.corpus import stopwords\n",
    "from sklearn.feature_extraction.text import TfidfVectorizer\n",
    "from rake_nltk import Rake\n",
    "from collections import Counter\n",
    "from nltk.stem import WordNetLemmatizer\n",
    "from rake_nltk import Metric\n",
    "\n",
    "# Download necessary NLTK resources\n",
    "nltk.download('stopwords')\n",
    "nltk.download('wordnet')\n",
    "stop_words = set(stopwords.words('english'))\n",
    "lemmatizer = WordNetLemmatizer()"
   ]
  },
  {
   "cell_type": "code",
   "execution_count": 3,
   "metadata": {},
   "outputs": [
    {
     "data": {
      "text/html": [
       "<div>\n",
       "<style scoped>\n",
       "    .dataframe tbody tr th:only-of-type {\n",
       "        vertical-align: middle;\n",
       "    }\n",
       "\n",
       "    .dataframe tbody tr th {\n",
       "        vertical-align: top;\n",
       "    }\n",
       "\n",
       "    .dataframe thead th {\n",
       "        text-align: right;\n",
       "    }\n",
       "</style>\n",
       "<table border=\"1\" class=\"dataframe\">\n",
       "  <thead>\n",
       "    <tr style=\"text-align: right;\">\n",
       "      <th></th>\n",
       "      <th>ProjectID</th>\n",
       "      <th>RequirementText</th>\n",
       "      <th>_class_</th>\n",
       "      <th>Unnamed: 3</th>\n",
       "      <th>Unnamed: 4</th>\n",
       "      <th>Requirement Type</th>\n",
       "      <th>Count</th>\n",
       "    </tr>\n",
       "  </thead>\n",
       "  <tbody>\n",
       "    <tr>\n",
       "      <th>0</th>\n",
       "      <td>1</td>\n",
       "      <td>The system shall refresh the display every 60 ...</td>\n",
       "      <td>PE</td>\n",
       "      <td>NaN</td>\n",
       "      <td>NaN</td>\n",
       "      <td>Functional Requirement (F)</td>\n",
       "      <td>444.0</td>\n",
       "    </tr>\n",
       "    <tr>\n",
       "      <th>1</th>\n",
       "      <td>1</td>\n",
       "      <td>The application shall match the color of the s...</td>\n",
       "      <td>LF</td>\n",
       "      <td>NaN</td>\n",
       "      <td>NaN</td>\n",
       "      <td>Availability (A)</td>\n",
       "      <td>31.0</td>\n",
       "    </tr>\n",
       "    <tr>\n",
       "      <th>2</th>\n",
       "      <td>1</td>\n",
       "      <td>If projected  the data must be readable.  On a...</td>\n",
       "      <td>US</td>\n",
       "      <td>NaN</td>\n",
       "      <td>NaN</td>\n",
       "      <td>Legal (L)</td>\n",
       "      <td>15.0</td>\n",
       "    </tr>\n",
       "    <tr>\n",
       "      <th>3</th>\n",
       "      <td>1</td>\n",
       "      <td>The product shall be available during normal b...</td>\n",
       "      <td>A</td>\n",
       "      <td>NaN</td>\n",
       "      <td>NaN</td>\n",
       "      <td>Look-and-feel (LF)</td>\n",
       "      <td>49.0</td>\n",
       "    </tr>\n",
       "    <tr>\n",
       "      <th>4</th>\n",
       "      <td>1</td>\n",
       "      <td>If projected  the data must be understandable....</td>\n",
       "      <td>US</td>\n",
       "      <td>NaN</td>\n",
       "      <td>NaN</td>\n",
       "      <td>Maintainability (MN)</td>\n",
       "      <td>24.0</td>\n",
       "    </tr>\n",
       "  </tbody>\n",
       "</table>\n",
       "</div>"
      ],
      "text/plain": [
       "   ProjectID                                    RequirementText _class_  \\\n",
       "0          1  The system shall refresh the display every 60 ...      PE   \n",
       "1          1  The application shall match the color of the s...      LF   \n",
       "2          1  If projected  the data must be readable.  On a...      US   \n",
       "3          1  The product shall be available during normal b...       A   \n",
       "4          1  If projected  the data must be understandable....      US   \n",
       "\n",
       "   Unnamed: 3  Unnamed: 4            Requirement Type  Count  \n",
       "0         NaN         NaN  Functional Requirement (F)  444.0  \n",
       "1         NaN         NaN            Availability (A)   31.0  \n",
       "2         NaN         NaN                   Legal (L)   15.0  \n",
       "3         NaN         NaN          Look-and-feel (LF)   49.0  \n",
       "4         NaN         NaN        Maintainability (MN)   24.0  "
      ]
     },
     "execution_count": 3,
     "metadata": {},
     "output_type": "execute_result"
    }
   ],
   "source": [
    "# Load dataset (Modify filename if necessary)\n",
    "df_real = pd.read_csv(\"../datasets/PROMISE_exp.csv\")\n",
    "df_real.head()"
   ]
  },
  {
   "cell_type": "code",
   "execution_count": 4,
   "metadata": {},
   "outputs": [
    {
     "data": {
      "text/html": [
       "<div>\n",
       "<style scoped>\n",
       "    .dataframe tbody tr th:only-of-type {\n",
       "        vertical-align: middle;\n",
       "    }\n",
       "\n",
       "    .dataframe tbody tr th {\n",
       "        vertical-align: top;\n",
       "    }\n",
       "\n",
       "    .dataframe thead th {\n",
       "        text-align: right;\n",
       "    }\n",
       "</style>\n",
       "<table border=\"1\" class=\"dataframe\">\n",
       "  <thead>\n",
       "    <tr style=\"text-align: right;\">\n",
       "      <th></th>\n",
       "      <th>RequirementText</th>\n",
       "      <th>_class_</th>\n",
       "    </tr>\n",
       "  </thead>\n",
       "  <tbody>\n",
       "    <tr>\n",
       "      <th>0</th>\n",
       "      <td>The system shall refresh the display every 60 ...</td>\n",
       "      <td>PE</td>\n",
       "    </tr>\n",
       "    <tr>\n",
       "      <th>1</th>\n",
       "      <td>The application shall match the color of the s...</td>\n",
       "      <td>LF</td>\n",
       "    </tr>\n",
       "    <tr>\n",
       "      <th>2</th>\n",
       "      <td>If projected  the data must be readable.  On a...</td>\n",
       "      <td>US</td>\n",
       "    </tr>\n",
       "    <tr>\n",
       "      <th>3</th>\n",
       "      <td>The product shall be available during normal b...</td>\n",
       "      <td>A</td>\n",
       "    </tr>\n",
       "    <tr>\n",
       "      <th>4</th>\n",
       "      <td>If projected  the data must be understandable....</td>\n",
       "      <td>US</td>\n",
       "    </tr>\n",
       "  </tbody>\n",
       "</table>\n",
       "</div>"
      ],
      "text/plain": [
       "                                     RequirementText _class_\n",
       "0  The system shall refresh the display every 60 ...      PE\n",
       "1  The application shall match the color of the s...      LF\n",
       "2  If projected  the data must be readable.  On a...      US\n",
       "3  The product shall be available during normal b...       A\n",
       "4  If projected  the data must be understandable....      US"
      ]
     },
     "execution_count": 4,
     "metadata": {},
     "output_type": "execute_result"
    }
   ],
   "source": [
    "df = df_real[['RequirementText', '_class_']].copy()\n",
    "\n",
    "df = df.reset_index(drop=True)\n",
    "df.head()"
   ]
  },
  {
   "cell_type": "code",
   "execution_count": 5,
   "metadata": {},
   "outputs": [
    {
     "data": {
      "text/plain": [
       "0    The system shall refresh display every 60 seco...\n",
       "1    The application shall match color schema set f...\n",
       "2    If projected data must readable. On 10x10 proj...\n",
       "3    The product shall available normal business ho...\n",
       "4    If projected data must understandable. On 10x1...\n",
       "Name: RequirementText, dtype: object"
      ]
     },
     "execution_count": 5,
     "metadata": {},
     "output_type": "execute_result"
    }
   ],
   "source": [
    "df['RequirementText'] = df['RequirementText'].apply(lambda x: ' '.join([word for word in x.split() if word not in stop_words]))\n",
    "df['RequirementText'].head()"
   ]
  },
  {
   "cell_type": "code",
   "execution_count": 6,
   "metadata": {},
   "outputs": [
    {
     "data": {
      "text/html": [
       "<div>\n",
       "<style scoped>\n",
       "    .dataframe tbody tr th:only-of-type {\n",
       "        vertical-align: middle;\n",
       "    }\n",
       "\n",
       "    .dataframe tbody tr th {\n",
       "        vertical-align: top;\n",
       "    }\n",
       "\n",
       "    .dataframe thead th {\n",
       "        text-align: right;\n",
       "    }\n",
       "</style>\n",
       "<table border=\"1\" class=\"dataframe\">\n",
       "  <thead>\n",
       "    <tr style=\"text-align: right;\">\n",
       "      <th></th>\n",
       "      <th>RequirementText</th>\n",
       "      <th>_class_</th>\n",
       "      <th>cleaned_text</th>\n",
       "    </tr>\n",
       "  </thead>\n",
       "  <tbody>\n",
       "    <tr>\n",
       "      <th>0</th>\n",
       "      <td>The system shall refresh display every 60 seco...</td>\n",
       "      <td>PE</td>\n",
       "      <td>system shall refresh display every second</td>\n",
       "    </tr>\n",
       "    <tr>\n",
       "      <th>1</th>\n",
       "      <td>The application shall match color schema set f...</td>\n",
       "      <td>LF</td>\n",
       "      <td>application shall match color schema set forth...</td>\n",
       "    </tr>\n",
       "    <tr>\n",
       "      <th>2</th>\n",
       "      <td>If projected data must readable. On 10x10 proj...</td>\n",
       "      <td>US</td>\n",
       "      <td>projected data must readable projection screen...</td>\n",
       "    </tr>\n",
       "    <tr>\n",
       "      <th>3</th>\n",
       "      <td>The product shall available normal business ho...</td>\n",
       "      <td>A</td>\n",
       "      <td>product shall available normal business hour l...</td>\n",
       "    </tr>\n",
       "    <tr>\n",
       "      <th>4</th>\n",
       "      <td>If projected data must understandable. On 10x1...</td>\n",
       "      <td>US</td>\n",
       "      <td>projected data must understandable projection ...</td>\n",
       "    </tr>\n",
       "  </tbody>\n",
       "</table>\n",
       "</div>"
      ],
      "text/plain": [
       "                                     RequirementText _class_  \\\n",
       "0  The system shall refresh display every 60 seco...      PE   \n",
       "1  The application shall match color schema set f...      LF   \n",
       "2  If projected data must readable. On 10x10 proj...      US   \n",
       "3  The product shall available normal business ho...       A   \n",
       "4  If projected data must understandable. On 10x1...      US   \n",
       "\n",
       "                                        cleaned_text  \n",
       "0          system shall refresh display every second  \n",
       "1  application shall match color schema set forth...  \n",
       "2  projected data must readable projection screen...  \n",
       "3  product shall available normal business hour l...  \n",
       "4  projected data must understandable projection ...  "
      ]
     },
     "execution_count": 6,
     "metadata": {},
     "output_type": "execute_result"
    }
   ],
   "source": [
    "# Text cleaning function\n",
    "def clean_text(text):\n",
    "    text = text.lower()  # Convert to lowercase\n",
    "    text = re.sub(r'\\W+', ' ', text)  # Remove special characters\n",
    "    text = re.sub(r'\\d+', '', text)  # Remove numbers\n",
    "    text = re.sub(r'\\b(?:https?://|www\\.)\\S+\\b', '', text)  # Remove URLs\n",
    "    text = re.sub(r'\\b\\w{1,2}\\b', '', text)  # Remove short words\n",
    "    text = re.sub(r'\\b(cloud-based)\\b', 'cloud_based', text)\n",
    "    words = text.split()\n",
    "    words = [lemmatizer.lemmatize(word) for word in words if word not in stop_words]  # Lemmatize and remove stopwords\n",
    "    return ' '.join(words)  # Return cleaned text\n",
    "\n",
    "# Apply text cleaning\n",
    "df['cleaned_text'] = df['RequirementText'].apply(clean_text)\n",
    "df.head()"
   ]
  },
  {
   "cell_type": "code",
   "execution_count": 7,
   "metadata": {},
   "outputs": [
    {
     "name": "stdout",
     "output_type": "stream",
     "text": [
      "Cleaned data saved to ../datasets/PROMISE_exp_cleaned.csv\n"
     ]
    }
   ],
   "source": [
    "# Save to CSV\n",
    "output_filename = \"../datasets/PROMISE_exp_cleaned.csv\"  # You can change this path\n",
    "df.to_csv(output_filename, index=False)  # index=False avoids saving row numbers\n",
    "print(f\"Cleaned data saved to {output_filename}\")"
   ]
  },
  {
   "cell_type": "code",
   "execution_count": 8,
   "metadata": {},
   "outputs": [],
   "source": [
    "# Group text by category (Label)\n",
    "category_texts = df.groupby('_class_')['cleaned_text'].apply(lambda x: ' '.join(x)).to_dict()"
   ]
  },
  {
   "cell_type": "code",
   "execution_count": 9,
   "metadata": {},
   "outputs": [],
   "source": [
    "# Initialize results dictionary\n",
    "seed_words = {}\n",
    "fixed_word_count = 30  # Ensure exactly 30 words per category"
   ]
  },
  {
   "cell_type": "code",
   "execution_count": 10,
   "metadata": {},
   "outputs": [],
   "source": [
    "# Extract seed words using enhanced TF-IDF and optimized RAKE\n",
    "word_weights = Counter()\n",
    "category_word_scores = {}\n",
    "\n",
    "for category, text in category_texts.items():\n",
    "    # --- Enhanced TF-IDF Extraction ---\n",
    "    vectorizer = TfidfVectorizer(\n",
    "        max_features=50,          # Increased from 10 to capture more relevant terms\n",
    "        ngram_range=(1, 2),       \n",
    "        stop_words=list(stop_words),\n",
    "        min_df=1,                 # Ignore terms appearing in <3 documents\n",
    "        max_df=1.0                # Remove terms in >70% of documents\n",
    "    )\n",
    "    tfidf_matrix = vectorizer.fit_transform([text])\n",
    "    tfidf_terms = vectorizer.get_feature_names_out()\n",
    "    \n",
    "    # --- Optimized RAKE Extraction ---\n",
    "    rake = Rake(\n",
    "        stopwords=stop_words,\n",
    "        min_length=2,             # Minimum phrase length\n",
    "        max_length=3,             # Maximum phrase length\n",
    "        ranking_metric=Metric.WORD_FREQUENCY,  # Focus on term importance\n",
    "        include_repeated_phrases=False  # Avoid duplicate phrases\n",
    "    )\n",
    "    rake.extract_keywords_from_text(text)\n",
    "    rake_phrases = rake.get_ranked_phrases()[:8]  # Get more phrases for better coverage\n",
    "    \n",
    "    # Process RAKE phrases to handle multi-word terms\n",
    "    rake_terms = []\n",
    "    for phrase in rake_phrases:\n",
    "        # Split phrases and lemmatize components\n",
    "        processed_phrase = [lemmatizer.lemmatize(word) for word in phrase.split()]\n",
    "        rake_terms.extend(processed_phrase)\n",
    "    \n",
    "    # Combine and filter terms\n",
    "    combined_terms = list(set(tfidf_terms) | set(rake_terms))\n",
    "    filtered_terms = [\n",
    "        word for word in combined_terms \n",
    "        if word.isalpha() \n",
    "        and word not in stop_words\n",
    "        and len(word) > 2  # Filter short words\n",
    "    ]\n",
    "    \n",
    "    # Compute weighted frequencies\n",
    "    word_frequencies = Counter(filtered_terms)\n",
    "    word_weights.update(word_frequencies)\n",
    "    category_word_scores[category] = word_frequencies\n",
    "    \n",
    "    # Dynamic word count adjustment\n",
    "    category_word_count = max(min(len(filtered_terms), 15), 50)  # Flexible count\n",
    "    if len(filtered_terms) < category_word_count:\n",
    "        # Add contextually relevant filler words\n",
    "        freq_words = [word for word, _ in Counter(text.split()).most_common(30)]\n",
    "        additional_words = [w for w in freq_words \n",
    "                           if w not in filtered_terms \n",
    "                           and w not in stop_words][:category_word_count - len(filtered_terms)]\n",
    "        filtered_terms.extend(additional_words)\n",
    "    \n",
    "    seed_words[category] = filtered_terms[:category_word_count]\n",
    "\n",
    "# Enhanced cross-category deduplication\n",
    "final_seed_words = {category: [] for category in seed_words}\n",
    "word_category_map = {}"
   ]
  },
  {
   "cell_type": "code",
   "execution_count": 11,
   "metadata": {},
   "outputs": [],
   "source": [
    "# Initialize word_to_category dictionary\n",
    "word_to_category = {}\n",
    "\n",
    "# Initialize final_seed_words with empty lists for each category\n",
    "final_seed_words = {category: [] for category in seed_words}\n",
    "\n",
    "for category, words in seed_words.items():\n",
    "    for word in words:\n",
    "        if word in word_to_category:\n",
    "            prev_category = word_to_category[word]\n",
    "            \n",
    "            # Only proceed if word exists in previous category's list\n",
    "            if word in final_seed_words[prev_category]:\n",
    "                current_score = category_word_scores[category].get(word, 0)\n",
    "                prev_score = category_word_scores[prev_category].get(word, 0)\n",
    "                \n",
    "                if current_score > prev_score:\n",
    "                    # Safely remove from previous category\n",
    "                    final_seed_words[prev_category].remove(word)\n",
    "                    final_seed_words[category].append(word)\n",
    "                    word_to_category[word] = category\n",
    "        else:\n",
    "            final_seed_words[category].append(word)\n",
    "            word_to_category[word] = category"
   ]
  },
  {
   "cell_type": "code",
   "execution_count": 12,
   "metadata": {},
   "outputs": [
    {
     "name": "stdout",
     "output_type": "stream",
     "text": [
      "Category: A -> Seed Words: ['year', 'long', 'system', 'achieve', 'wcs', 'internet', 'user', 'product', 'available', 'provide', 'per', 'support', 'technical', 'contractual', 'application', 'availability', 'time', 'customer', 'website', 'service', 'period', 'use', 'shall', 'must', 'access', 'hour', 'day', 'online', 'schedule', 'uptime']\n",
      "Category: F -> Seed Words: ['game', 'member', 'able', 'class', 'case', 'player', 'administrator', 'list', 'nursing', 'include', 'part', 'data', 'site', 'lead', 'lab', 'search', 'information', 'meeting', 'program', 'allow', 'staff', 'display', 'dispute', 'student', 'view', 'section', 'clinical', 'request', 'cohort']\n",
      "Category: FT -> Seed Words: ['dependent', 'result', 'failure', 'continue', 'fault', 'robust', 'preference', 'accommodate', 'tablet', 'loss', 'without', 'input', 'operate', 'tolerance', 'event', 'prevent', 'malicious', 'reliability', 'database', 'filesystems', 'crash', 'item', 'operational', 'go']\n",
      "Category: L -> Seed Words: ['action', 'audit', 'compliance', 'regulation', 'requirement', 'processing', 'legal', 'rule', 'operating', 'specified', 'conform', 'comply', 'meet', 'performed', 'merchant', 'standard', 'history', 'set', 'business', 'govern', 'credit']\n",
      "Category: LF -> Seed Words: ['look', 'map', 'ccr', 'feel', 'appealing', 'professional', 'ship', 'shot', 'within', 'corporate', 'sound', 'resolution', 'african', 'one', 'menu', 'campus', 'simulate', 'design', 'report', 'contain', 'color', 'navigation', 'page', 'logo', 'interface', 'message', 'button']\n",
      "Category: MN -> Seed Words: ['run', 'revenue', 'season', 'end', 'expense', 'integrate', 'month', 'addition', 'update', 'coding', 'release', 'development', 'query', 'take', 'every', 'budget', 'new', 'easy', 'maintenance', 'testing', 'code', 'updated', 'week', 'change']\n",
      "Category: O -> Seed Words: ['process', 'window', 'provides', 'cardmember', 'environment', 'computer', 'detail', 'microsoft', 'web', 'file', 'used', 'management', 'dbms', 'browser', 'server', 'minimum']\n",
      "Category: PE -> Seed Words: ['fast', 'movie', 'second', 'longer', 'complete', 'maximum', 'minute', 'connection', 'response', 'load', 'card', 'returned', 'performance', 'let']\n",
      "Category: PO -> Seed Words: ['since', 'platform', 'software', 'several', 'compatible', 'major', 'reasonable', 'wide', 'portable', 'palm', 'unix', 'io', 'android', 'fully', 'function', 'mobile', 'way', 'may', 'either']\n",
      "Category: SC -> Seed Words: ['expected', 'launch', 'number', 'ability', 'handling', 'concurrent', 'transaction', 'capable', 'state', 'scheduling', 'country', 'simultaneous', 'handle', 'language', 'market', 'streaming', 'next']\n",
      "Category: SE -> Seed Words: ['encrypted', 'login', 'company', 'password', 'secure', 'supervisor', 'stored', 'log', 'role', 'policy', 'security', 'authorized', 'secured', 'allowed', 'ensure']\n",
      "Category: US -> Seed Words: ['collision', 'successfully', 'click', 'training', 'using', 'intuitive', 'help', 'realtor', 'estimator', 'screen', 'first']\n"
     ]
    }
   ],
   "source": [
    "# Display the final extracted seed words\n",
    "for category, words in final_seed_words.items():\n",
    "    print(f\"Category: {category} -> Seed Words: {words}\")"
   ]
  },
  {
   "cell_type": "code",
   "execution_count": null,
   "metadata": {},
   "outputs": [],
   "source": []
  }
 ],
 "metadata": {
  "kernelspec": {
   "display_name": "Python 3",
   "language": "python",
   "name": "python3"
  },
  "language_info": {
   "codemirror_mode": {
    "name": "ipython",
    "version": 3
   },
   "file_extension": ".py",
   "mimetype": "text/x-python",
   "name": "python",
   "nbconvert_exporter": "python",
   "pygments_lexer": "ipython3",
   "version": "3.12.3"
  }
 },
 "nbformat": 4,
 "nbformat_minor": 2
}
